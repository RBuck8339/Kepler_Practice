{
 "cells": [
  {
   "cell_type": "markdown",
   "metadata": {},
   "source": [
    "# Using Kepler Mapper in Jupyter Notebook\n",
    "\n",
    "_Last run 2021-10-08 with kmapper version 2.0.1_"
   ]
  },
  {
   "cell_type": "code",
   "execution_count": 1,
   "metadata": {},
   "outputs": [],
   "source": [
    "import kmapper as km\n",
    "from kmapper import jupyter # Creates custom CSS full-size Jupyter screen"
   ]
  },
  {
   "cell_type": "code",
   "execution_count": 2,
   "metadata": {
    "scrolled": true
   },
   "outputs": [
    {
     "name": "stdout",
     "output_type": "stream",
     "text": [
      "KeplerMapper(verbose=1)\n",
      "..Composing projection pipeline of length 1:\n",
      "\tProjections: [0, 1]\n",
      "\tDistance matrices: False\n",
      "\tScalers: MinMaxScaler()\n",
      "..Projecting on data shaped (5000, 2)\n",
      "\n",
      "..Projecting data using: [0, 1]\n",
      "\n",
      "..Scaling with: MinMaxScaler()\n",
      "\n",
      "Mapping on data shaped (5000, 2) using lens shaped (5000, 2)\n",
      "\n",
      "Creating 100 hypercubes.\n",
      "\n",
      "Created 242 edges and 92 nodes in 0:00:00.270250.\n",
      "Wrote visualization to: output/make_circles_keplermapper_output.html\n"
     ]
    }
   ],
   "source": [
    "# Some sample data\n",
    "from sklearn import datasets\n",
    "data, labels = datasets.make_circles(n_samples=5000, noise=0.03, factor=0.3)\n",
    "\n",
    "# Initialize\n",
    "mapper = km.KeplerMapper(verbose=1)\n",
    "\n",
    "# Fit to and transform the data\n",
    "projected_data = mapper.fit_transform(data, projection=[0,1]) # X-Y axis\n",
    "\n",
    "# Create a cover with 10 elements\n",
    "cover = km.Cover(n_cubes=10)\n",
    "\n",
    "# Create dictionary called 'graph' with nodes, edges and meta-information\n",
    "graph = mapper.map(projected_data, data, cover=cover)\n",
    "\n",
    "# Visualize it\n",
    "_ = mapper.visualize(graph, path_html=\"output/make_circles_keplermapper_output.html\",\n",
    "                 title=\"make_circles(n_samples=5000, noise=0.03, factor=0.3)\")\n",
    "\n",
    "## Uncomment the below to view the above-generated visualization\n",
    "#\n",
    "# jupyter.display(path_html=\"output/make_circles_keplermapper_output.html\")\n",
    "\n",
    "## Alternatively, use an IFrame to display a vis with a set width and height\n",
    "#\n",
    "# from IPython.display import IFrame\n",
    "# IFrame(src=\"http://mlwave.github.io/tda/word2vec-gender-bias.html\", width=800, height=600)\n"
   ]
  },
  {
   "cell_type": "markdown",
   "metadata": {},
   "source": [
    "[View the visualization](../_static/make_circles_keplermapper_output.html)."
   ]
  }
 ],
 "metadata": {
  "kernelspec": {
   "display_name": "Python 3",
   "language": "python",
   "name": "python3"
  },
  "language_info": {
   "codemirror_mode": {
    "name": "ipython",
    "version": 3
   },
   "file_extension": ".py",
   "mimetype": "text/x-python",
   "name": "python",
   "nbconvert_exporter": "python",
   "pygments_lexer": "ipython3",
   "version": "3.6.9"
  },
  "widgets": {
   "application/vnd.jupyter.widget-state+json": {
    "state": {},
    "version_major": 2,
    "version_minor": 0
   }
  }
 },
 "nbformat": 4,
 "nbformat_minor": 1
}
