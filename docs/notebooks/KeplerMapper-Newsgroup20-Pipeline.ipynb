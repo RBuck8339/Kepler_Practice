{
 "cells": [
  {
   "cell_type": "markdown",
   "metadata": {},
   "source": [
    "# KeplerMapper & NLP examples\n",
    "\n",
    "_Last run 2021-10-08 with kmapper version 2.0.1_"
   ]
  },
  {
   "cell_type": "markdown",
   "metadata": {},
   "source": [
    "## Newsgroups20"
   ]
  },
  {
   "cell_type": "code",
   "execution_count": 1,
   "metadata": {},
   "outputs": [],
   "source": [
    "# from kmapper import jupyter\n",
    "import kmapper as km\n",
    "from kmapper import Cover, jupyter\n",
    "import numpy as np\n",
    "\n",
    "from sklearn.datasets import fetch_20newsgroups\n",
    "from sklearn.cluster import AgglomerativeClustering\n",
    "from sklearn.feature_extraction.text import TfidfVectorizer\n",
    "from sklearn.decomposition import TruncatedSVD\n",
    "from sklearn.manifold import Isomap\n",
    "from sklearn.preprocessing import MinMaxScaler"
   ]
  },
  {
   "cell_type": "markdown",
   "metadata": {},
   "source": [
    "### Data\n",
    "We will use the Newsgroups20 dataset. This is a canonical NLP dataset containing 11314 labeled postings on 20 different newsgroups."
   ]
  },
  {
   "cell_type": "code",
   "execution_count": 2,
   "metadata": {},
   "outputs": [
    {
     "name": "stdout",
     "output_type": "stream",
     "text": [
      "SAMPLE From: lerxst@wam.umd.edu (where's my thing)\n",
      "Subject: WHAT car is this!?\n",
      "Nntp-Posting-Host: rac3.wam.umd.edu\n",
      "Organization: University of Maryland, College Park\n",
      "Lines: 15\n",
      "\n",
      " I was wondering if anyone out there could enlighten me on this car I saw\n",
      "the other day. It was a 2-door sports car, looked to be from the late 60s/\n",
      "early 70s. It was called a Bricklin. The doors were really small. In addition,\n",
      "the front bumper was separate from the rest of the body. This is \n",
      "all I know. If anyone can tellme a model name, engine specs, years\n",
      "of production, where this car is made, history, or whatever info you\n",
      "have on this funky looking car, please e-mail.\n",
      "\n",
      "Thanks,\n",
      "- IL\n",
      "   ---- brought to you by your neighborhood Lerxst ----\n",
      "\n",
      "\n",
      "\n",
      "\n",
      "\n",
      "SHAPE (11314,)\n",
      "TARGET rec.autos\n"
     ]
    }
   ],
   "source": [
    "newsgroups = fetch_20newsgroups(subset='train')\n",
    "X, y, target_names = np.array(newsgroups.data), np.array(newsgroups.target), np.array(newsgroups.target_names)\n",
    "print(\"SAMPLE\",X[0])\n",
    "print(\"SHAPE\",X.shape)\n",
    "print(\"TARGET\",target_names[y[0]])"
   ]
  },
  {
   "cell_type": "markdown",
   "metadata": {},
   "source": [
    "### Projection\n",
    "To project the unstructured text dataset down to 2 fixed dimensions, we will set up a function pipeline. Every consecutive function will take as input the output from the previous function.\n",
    "\n",
    "We will try out \"Latent Semantic Char-Gram Analysis followed by Isometric Mapping\".\n",
    "\n",
    "- TFIDF vectorize (1-6)-chargrams and discard the top 17% and bottom 5% chargrams. Dimensionality = 13967.\n",
    "- Run TruncatedSVD with 100 components on this representation. TFIDF followed by Singular Value Decomposition is called Latent Semantic Analysis. Dimensionality = 100.\n",
    "- Run Isomap embedding on the output from previous step to project down to 2 dimensions. Dimensionality = 2.\n",
    "- MinMaxScale the output from previous step. Dimensionality = 2."
   ]
  },
  {
   "cell_type": "code",
   "execution_count": 3,
   "metadata": {},
   "outputs": [
    {
     "name": "stdout",
     "output_type": "stream",
     "text": [
      "KeplerMapper(verbose=2)\n",
      "..Composing projection pipeline of length 3:\n",
      "\tProjections: TfidfVectorizer(analyzer='char', max_df=0.83, min_df=0.05, ngram_range=(1, 6))\n",
      "\t\tTruncatedSVD(n_components=100, random_state=1729)\n",
      "\t\tIsomap(n_jobs=-1)\n",
      "\tDistance matrices: False\n",
      "False\n",
      "False\n",
      "\tScalers: None\n",
      "None\n",
      "MinMaxScaler()\n",
      "..Projecting on data shaped (11314,)\n",
      "\n",
      "..Projecting data using: \n",
      "\tTfidfVectorizer(analyzer='char', max_df=0.83, min_df=0.05, ngram_range=(1, 6))\n",
      "\n",
      "\n",
      "..Created projection shaped (11314, 13967)\n",
      "..Projecting on data shaped (11314, 13967)\n",
      "\n",
      "..Projecting data using: \n",
      "\tTruncatedSVD(n_components=100, random_state=1729)\n",
      "\n",
      "..Projecting on data shaped (11314, 100)\n",
      "\n",
      "..Projecting data using: \n",
      "\tIsomap(n_jobs=-1)\n",
      "\n",
      "\n",
      "..Scaling with: MinMaxScaler()\n",
      "\n",
      "SHAPE (11314, 2)\n"
     ]
    }
   ],
   "source": [
    "mapper = km.KeplerMapper(verbose=2)\n",
    "\n",
    "projected_X = mapper.fit_transform(X,\n",
    "    projection=[TfidfVectorizer(analyzer=\"char\",\n",
    "                                ngram_range=(1,6),\n",
    "                                max_df=0.83,\n",
    "                                min_df=0.05),\n",
    "                TruncatedSVD(n_components=100,\n",
    "                             random_state=1729),\n",
    "                Isomap(n_components=2,\n",
    "                       n_jobs=-1)],\n",
    "    scaler=[None, None, MinMaxScaler()])\n",
    "\n",
    "print(\"SHAPE\",projected_X.shape)"
   ]
  },
  {
   "cell_type": "markdown",
   "metadata": {},
   "source": [
    "### Mapping\n",
    "We cover the projection with 10 33%-overlapping intervals per dimension (10\\*10=100 cubes total).\n",
    "\n",
    "We cluster on the projection (but, note, we can also create an `inverse_X` to cluster on by vectorizing the original text data).\n",
    "\n",
    "For clustering we use Agglomerative Single Linkage Clustering with the \"cosine\"-distance and 3 clusters. Agglomerative Clustering is a good cluster algorithm for TDA, since it both creates pleasing informative networks, and it has strong theoretical garantuees (see [functor](https://en.wikipedia.org/wiki/Functor) and [functoriality](https://jeremykun.com/2013/07/14/functoriality/))."
   ]
  },
  {
   "cell_type": "code",
   "execution_count": 4,
   "metadata": {},
   "outputs": [
    {
     "name": "stdout",
     "output_type": "stream",
     "text": [
      "Mapping on data shaped (11314, 2) using lens shaped (11314, 2)\n",
      "\n",
      "Minimal points in hypercube before clustering: 3\n",
      "Creating 100 hypercubes.\n",
      "   > Found 3 clusters in hypercube 0.\n",
      "   > Found 3 clusters in hypercube 1.\n",
      "   > Found 3 clusters in hypercube 2.\n",
      "   > Found 3 clusters in hypercube 3.\n",
      "Cube_4 is empty.\n",
      "\n",
      "   > Found 3 clusters in hypercube 5.\n",
      "   > Found 3 clusters in hypercube 6.\n",
      "   > Found 3 clusters in hypercube 7.\n",
      "   > Found 3 clusters in hypercube 8.\n",
      "   > Found 3 clusters in hypercube 9.\n",
      "   > Found 3 clusters in hypercube 10.\n",
      "   > Found 3 clusters in hypercube 11.\n",
      "   > Found 3 clusters in hypercube 12.\n",
      "   > Found 3 clusters in hypercube 13.\n",
      "   > Found 3 clusters in hypercube 14.\n",
      "   > Found 3 clusters in hypercube 15.\n",
      "   > Found 3 clusters in hypercube 16.\n",
      "   > Found 3 clusters in hypercube 17.\n",
      "   > Found 3 clusters in hypercube 18.\n",
      "   > Found 3 clusters in hypercube 19.\n",
      "   > Found 3 clusters in hypercube 20.\n",
      "Cube_21 is empty.\n",
      "\n",
      "   > Found 3 clusters in hypercube 22.\n",
      "   > Found 3 clusters in hypercube 23.\n",
      "   > Found 3 clusters in hypercube 24.\n",
      "   > Found 3 clusters in hypercube 25.\n",
      "   > Found 3 clusters in hypercube 26.\n",
      "   > Found 3 clusters in hypercube 27.\n",
      "   > Found 3 clusters in hypercube 28.\n",
      "   > Found 3 clusters in hypercube 29.\n",
      "   > Found 3 clusters in hypercube 30.\n",
      "   > Found 3 clusters in hypercube 31.\n",
      "   > Found 3 clusters in hypercube 32.\n",
      "   > Found 3 clusters in hypercube 33.\n",
      "   > Found 3 clusters in hypercube 34.\n",
      "   > Found 3 clusters in hypercube 35.\n",
      "   > Found 3 clusters in hypercube 36.\n",
      "   > Found 3 clusters in hypercube 37.\n",
      "   > Found 3 clusters in hypercube 38.\n",
      "   > Found 3 clusters in hypercube 39.\n",
      "   > Found 3 clusters in hypercube 40.\n",
      "   > Found 3 clusters in hypercube 41.\n",
      "   > Found 3 clusters in hypercube 42.\n",
      "   > Found 3 clusters in hypercube 43.\n",
      "   > Found 3 clusters in hypercube 44.\n",
      "   > Found 3 clusters in hypercube 45.\n",
      "   > Found 3 clusters in hypercube 46.\n",
      "   > Found 3 clusters in hypercube 47.\n",
      "   > Found 3 clusters in hypercube 48.\n",
      "   > Found 3 clusters in hypercube 49.\n",
      "   > Found 3 clusters in hypercube 50.\n",
      "   > Found 3 clusters in hypercube 51.\n",
      "   > Found 3 clusters in hypercube 52.\n",
      "   > Found 3 clusters in hypercube 53.\n",
      "   > Found 3 clusters in hypercube 54.\n",
      "   > Found 3 clusters in hypercube 55.\n",
      "   > Found 3 clusters in hypercube 56.\n",
      "   > Found 3 clusters in hypercube 57.\n",
      "   > Found 3 clusters in hypercube 58.\n",
      "   > Found 3 clusters in hypercube 59.\n",
      "   > Found 3 clusters in hypercube 60.\n",
      "   > Found 3 clusters in hypercube 61.\n",
      "   > Found 3 clusters in hypercube 62.\n",
      "   > Found 3 clusters in hypercube 63.\n",
      "   > Found 3 clusters in hypercube 64.\n",
      "   > Found 3 clusters in hypercube 65.\n",
      "   > Found 3 clusters in hypercube 66.\n",
      "   > Found 3 clusters in hypercube 67.\n",
      "   > Found 3 clusters in hypercube 68.\n",
      "   > Found 3 clusters in hypercube 69.\n",
      "   > Found 3 clusters in hypercube 70.\n",
      "   > Found 3 clusters in hypercube 71.\n",
      "   > Found 3 clusters in hypercube 72.\n",
      "   > Found 3 clusters in hypercube 73.\n",
      "   > Found 3 clusters in hypercube 74.\n",
      "   > Found 3 clusters in hypercube 75.\n",
      "   > Found 3 clusters in hypercube 76.\n",
      "Cube_77 is empty.\n",
      "\n",
      "Cube_78 is empty.\n",
      "\n",
      "   > Found 3 clusters in hypercube 79.\n",
      "   > Found 3 clusters in hypercube 80.\n",
      "   > Found 3 clusters in hypercube 81.\n",
      "   > Found 3 clusters in hypercube 82.\n",
      "   > Found 3 clusters in hypercube 83.\n",
      "\n",
      "Created 605 edges and 240 nodes in 0:00:01.848595.\n"
     ]
    }
   ],
   "source": [
    "from sklearn import cluster\n",
    "graph = mapper.map(projected_X,\n",
    "                   X=None,\n",
    "                   clusterer=cluster.AgglomerativeClustering(n_clusters=3,\n",
    "                                                             linkage=\"complete\",\n",
    "                                                             affinity=\"cosine\"),\n",
    "                   cover=Cover(perc_overlap=0.33))"
   ]
  },
  {
   "cell_type": "markdown",
   "metadata": {},
   "source": [
    "### Interpretable inverse X\n",
    "Here we show the flexibility of KeplerMapper by creating an `interpretable_inverse_X` that is easier to interpret by humans.\n",
    "\n",
    "For text, this can be TFIDF (1-3)-wordgrams, like we do here. For structured data this can be regularitory/protected variables of interest, or using another model to select, say, the top 10% features."
   ]
  },
  {
   "cell_type": "code",
   "execution_count": 5,
   "metadata": {},
   "outputs": [
    {
     "name": "stdout",
     "output_type": "stream",
     "text": [
      "SHAPE (11314, 947)\n",
      "FEATURE NAMES SAMPLE ['00', '000', '10', '100', '11', '12', '13', '14', '15', '16', '17', '18', '19', '1992', '1993', '1993apr15', '20', '200', '21', '22', '23', '24', '25', '26', '27', '28', '29', '30', '31', '32', '33', '34', '35', '36', '37', '38', '39', '40', '408', '41', '42', '43', '44', '45', '49', '50', '500', '60', '70', '80', '90', '92', '93', 'able', 'ac', 'ac uk', 'accept', 'access', 'according', 'acs', 'act', 'action', 'actually', 'add', 'address', 'advance', 'advice', 'ago', 'agree', 'air', 'al', 'allow', 'allowed', 'america', 'american', 'andrew', 'answer', 'anti', 'anybody', 'apparently', 'appears', 'apple', 'application', 'apply', 'appreciate', 'appreciated', 'apr', 'apr 1993', 'apr 93', 'april', 'area', 'aren', 'argument', 'article', 'article 1993apr15', 'ask', 'asked', 'asking', 'assume', 'att', 'att com', 'au', 'available', 'average', 'avoid', 'away', 'bad', 'base', 'baseball', 'based', 'basic', 'basically', 'basis', 'bbs', 'believe', 'best', 'better', 'bible', 'big', 'bike', 'bit', 'bitnet', 'black', 'blue', 'board', 'bob', 'body', 'book', 'books', 'bought', 'box', 'break', 'brian', 'bring', 'brought', 'btw', 'build', 'building', 'built', 'bus', 'business', 'buy', 'ca', 'ca lines', 'california', 'called', 'came', 'canada', 'car', 'card', 'cards', 'care', 'carry', 'cars', 'case', 'cases', 'cause', 'cc', 'center', 'certain', 'certainly', 'chance', 'change', 'changed', 'cheap', 'check', 'chicago', 'children', 'chip', 'choice', 'chris', 'christ', 'christian', 'christians', 'church', 'city', 'claim', 'claims', 'class', 'clear', 'clearly', 'cleveland', 'clinton', 'clipper', 'close', 'cmu', 'cmu edu', 'code', 'college', 'color', 'colorado', 'com', 'com organization', 'com writes', 'come', 'comes', 'coming', 'comment', 'comments', 'common', 'communications', 'comp', 'company', 'complete', 'completely', 'computer', 'computer science', 'computing', 'condition', 'consider', 'considered', 'contact', 'continue', 'control', 'copy', 'corp', 'corporation', 'correct', 'cost', 'couldn', 'country', 'couple', 'course', 'court', 'cover', 'create', 'created', 'crime', 'cs', 'cso', 'cso uiuc', 'cso uiuc edu', 'cup', 'current', 'currently', 'cut', 'cwru', 'cwru edu', 'data', 'date', 'dave', 'david', 'day', 'days', 'dead', 'deal', 'death', 'decided', 'defense', 'deleted', 'department', 'dept', 'design', 'designed', 'details', 'development', 'device', 'did', 'didn', 'die', 'difference', 'different', 'difficult', 'directly', 'disclaimer', 'discussion', 'disk', 'display', 'distribution', 'distribution na', 'distribution na lines', 'distribution usa', 'distribution usa lines', 'distribution world', 'distribution world nntp', 'distribution world organization', 'division', 'dod', 'does', 'does know', 'doesn', 'doing', 'don', 'don know', 'don think', 'don want', 'dos', 'doubt', 'dr', 'drive', 'driver', 'drivers', 'early', 'earth', 'easily', 'east', 'easy', 'ed', 'edu', 'edu article', 'edu au', 'edu david', 'edu organization', 'edu organization university', 'edu reply', 'edu subject', 'edu writes', 'effect', 'email', 'encryption', 'end', 'engineering', 'entire', 'error', 'especially', 'evidence', 'exactly', 'example', 'excellent', 'exist', 'exists', 'expect', 'experience', 'explain', 'expressed', 'extra', 'face', 'fact', 'faith', 'family', 'fan', 'faq', 'far', 'fast', 'faster', 'fax', 'federal', 'feel', 'figure', 'file', 'files', 'final', 'finally', 'fine', 'folks', 'follow', 'following', 'force', 'forget', 'form', 'frank', 'free', 'friend', 'ftp', 'future', 'game', 'games', 'gave', 'general', 'generally', 'germany', 'gets', 'getting', 'given', 'gives', 'giving', 'gmt', 'god', 'goes', 'going', 'gone', 'good', 'got', 'gov', 'government', 'graphics', 'great', 'greatly', 'ground', 'group', 'groups', 'guess', 'gun', 'guns', 'guy', 'half', 'hand', 'happen', 'happened', 'happens', 'happy', 'hard', 'hardware', 'haven', 'having', 'head', 'hear', 'heard', 'heart', 'hell']\n"
     ]
    }
   ],
   "source": [
    "vec = TfidfVectorizer(analyzer=\"word\",\n",
    "                      strip_accents=\"unicode\",\n",
    "                      stop_words=\"english\",\n",
    "                      ngram_range=(1,3),\n",
    "                      max_df=0.97,\n",
    "                      min_df=0.02)\n",
    "\n",
    "interpretable_inverse_X = vec.fit_transform(X).toarray()\n",
    "interpretable_inverse_X_names = vec.get_feature_names()\n",
    "\n",
    "print(\"SHAPE\", interpretable_inverse_X.shape)\n",
    "print(\"FEATURE NAMES SAMPLE\", interpretable_inverse_X_names[:400])"
   ]
  },
  {
   "cell_type": "markdown",
   "metadata": {},
   "source": [
    "### Visualization\n",
    "We use `interpretable_inverse_X` as the `inverse_X` during visualization. This way we get cluster statistics that are more informative/interpretable to humans (chargrams vs. wordgrams).\n",
    "\n",
    "We also pass the `projected_X` to get cluster statistics for the projection. For `custom_tooltips` we use a textual description of the label.\n",
    "\n",
    "The color function is simply the multi-class ground truth represented as a non-negative integer."
   ]
  },
  {
   "cell_type": "code",
   "execution_count": 6,
   "metadata": {
    "scrolled": false
   },
   "outputs": [
    {
     "name": "stdout",
     "output_type": "stream",
     "text": [
      "Wrote visualization to: output/newsgroups20.html\n"
     ]
    }
   ],
   "source": [
    "_ = mapper.visualize(graph,\n",
    "                        X=interpretable_inverse_X,\n",
    "                        X_names=interpretable_inverse_X_names,\n",
    "                        path_html=\"output/newsgroups20.html\",\n",
    "                        lens=projected_X,\n",
    "                        lens_names=[\"ISOMAP1\", \"ISOMAP2\"],\n",
    "                        title=\"Newsgroups20: Latent Semantic Char-gram Analysis with Isometric Embedding\",\n",
    "                        custom_tooltips=np.array([target_names[ys] for ys in y]),\n",
    "                        color_values=y,\n",
    "                        color_function_name='target')\n",
    "\n",
    "#jupyter.display(\"output/newsgroups20.html\")"
   ]
  },
  {
   "cell_type": "markdown",
   "metadata": {},
   "source": [
    "[View the visualization](../_static/newsgroups20.html)."
   ]
  },
  {
   "cell_type": "markdown",
   "metadata": {
    "collapsed": true
   },
   "source": [
    "<img src=\"https://i.imgur.com/3G4sm4Y.png\">"
   ]
  }
 ],
 "metadata": {
  "kernelspec": {
   "display_name": "Python 3",
   "language": "python",
   "name": "python3"
  },
  "language_info": {
   "codemirror_mode": {
    "name": "ipython",
    "version": 3
   },
   "file_extension": ".py",
   "mimetype": "text/x-python",
   "name": "python",
   "nbconvert_exporter": "python",
   "pygments_lexer": "ipython3",
   "version": "3.6.9"
  },
  "widgets": {
   "application/vnd.jupyter.widget-state+json": {
    "state": {},
    "version_major": 2,
    "version_minor": 0
   }
  }
 },
 "nbformat": 4,
 "nbformat_minor": 1
}
